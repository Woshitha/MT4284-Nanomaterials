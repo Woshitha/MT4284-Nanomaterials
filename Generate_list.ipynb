{
 "cells": [
  {
   "cell_type": "code",
   "execution_count": 90,
   "metadata": {},
   "outputs": [],
   "source": [
    "import math\n",
    "from sympy import symbols, integrate\n",
    "import numpy as np"
   ]
  },
  {
   "cell_type": "markdown",
   "metadata": {},
   "source": [
    "Functions"
   ]
  },
  {
   "cell_type": "code",
   "execution_count": 91,
   "metadata": {},
   "outputs": [],
   "source": [
    "def combined_list_1(A,B):\n",
    "    Out_list = [[None,None]]\n",
    "    for i in A:\n",
    "        for j in B:\n",
    "            Out_list = np.concatenate((Out_list, [np.array([i,j])]), axis=0)\n",
    "\n",
    "    return Out_list\n",
    "\n",
    "\n",
    "def combined_list_2(A,B):\n",
    "    Out_list = np.array([[None,None,None,None]])\n",
    "    for i in A:\n",
    "        for j in B:\n",
    "            temp = np.append(i,j)\n",
    "            Out_list = np.concatenate((Out_list, [temp]), axis=0)\n",
    "\n",
    "    return Out_list[1:]\n",
    "            \n",
    "\n",
    "def combined_list_3(A,B):\n",
    "    Out_list = np.array([[None,None,None,None,None]])\n",
    "    for i in A:\n",
    "        for j in B:\n",
    "            temp = np.append(i,j)\n",
    "            Out_list = np.concatenate((Out_list, [temp]), axis=0)\n",
    "\n",
    "    return Out_list[1:]\n"
   ]
  },
  {
   "cell_type": "markdown",
   "metadata": {},
   "source": [
    "Parameters"
   ]
  },
  {
   "cell_type": "code",
   "execution_count": 92,
   "metadata": {},
   "outputs": [],
   "source": [
    "# mean_r in nano meters\n",
    "mean_r_1 = 10 #10\n",
    "mean_r_N = 20 #100\n",
    "mean_r_step = 10\n",
    "\n",
    "# varience_r in nano meters\n",
    "varience_r_1 = 1 #1\n",
    "varience_r_N = 3 #5\n",
    "varience_r_step = 1\n",
    "\n",
    "# mean_zeta in mV\n",
    "mean_zeta_1 = 10 #10\n",
    "mean_zeta_N = 20 #100\n",
    "mean_zeta_step = 10\n",
    "\n",
    "# varience_zeta in mV\n",
    "varience_zeta_1 = 1 #1\n",
    "varience_zeta_N = 3 # 5\n",
    "varience_zeta_step = 1\n",
    "\n",
    "#particle count\n",
    "P_count_low = 500 #500\n",
    "P_count_max = 1000 #5000\n",
    "P_count_step = 500"
   ]
  },
  {
   "cell_type": "markdown",
   "metadata": {},
   "source": [
    "Lists"
   ]
  },
  {
   "cell_type": "code",
   "execution_count": 93,
   "metadata": {},
   "outputs": [],
   "source": [
    "mean_r = np.array(range(mean_r_1 , mean_r_N+mean_r_step, mean_r_step ))\n",
    "varience_r = np.array(range(varience_r_1 , varience_r_N+varience_r_step, varience_r_step ))\n",
    "mean_zeta = np.array(range(mean_zeta_1 , mean_zeta_N+mean_zeta_step, mean_zeta_step ))\n",
    "varience_zeta = np.array(range(varience_zeta_1 , varience_zeta_N+varience_zeta_step, varience_zeta_step ))\n",
    "particle_count = np.array(range(P_count_low , P_count_max+P_count_step, P_count_step ))"
   ]
  },
  {
   "cell_type": "markdown",
   "metadata": {},
   "source": [
    "Combine Lists"
   ]
  },
  {
   "cell_type": "code",
   "execution_count": 94,
   "metadata": {},
   "outputs": [],
   "source": [
    "R_list = combined_list_1(mean_r,varience_r)\n",
    "Zeta_list = combined_list_1(mean_zeta, varience_zeta)\n",
    "final_list = combined_list_2(R_list[1:], Zeta_list[1:])\n",
    "F_list = combined_list_3(final_list,particle_count)"
   ]
  },
  {
   "cell_type": "markdown",
   "metadata": {},
   "source": [
    "Save to External csv file"
   ]
  },
  {
   "cell_type": "code",
   "execution_count": 95,
   "metadata": {},
   "outputs": [],
   "source": [
    "# Specify the file path\n",
    "file_path = 'R_Zeta_Particlecount_list.csv'\n",
    "\n",
    "# Save the array to a CSV file\n",
    "np.savetxt(file_path, F_list, delimiter=',')\n"
   ]
  }
 ],
 "metadata": {
  "kernelspec": {
   "display_name": "Python 3",
   "language": "python",
   "name": "python3"
  },
  "language_info": {
   "codemirror_mode": {
    "name": "ipython",
    "version": 3
   },
   "file_extension": ".py",
   "mimetype": "text/x-python",
   "name": "python",
   "nbconvert_exporter": "python",
   "pygments_lexer": "ipython3",
   "version": "3.10.11"
  }
 },
 "nbformat": 4,
 "nbformat_minor": 2
}
