{
 "cells": [
  {
   "cell_type": "code",
   "execution_count": 87,
   "metadata": {},
   "outputs": [],
   "source": [
    "import math\n",
    "from sympy import symbols, integrate\n",
    "import numpy as np\n",
    "#from matplotlib import pyplot as plt\n",
    "\n",
    "E = 10\n",
    "s = 0.2\n",
    "n = 890\n",
    "pi = math.pi\n",
    "\n",
    "def Term_velocity(r, z):\n",
    "    return (E*z)/(6*pi*n*r)\n",
    "\n",
    "def t_1(r):\n",
    "    return (22*r**2) / n\n",
    "\n",
    "def s_1(t1,r,z):\n",
    "    t = symbols(\"t\")\n",
    "    velocity = (3*E*z*t) / (4*pi*r**3 + 18*pi*n*r*t)\n",
    "    return integrate(velocity, (t, 0, t1))\n",
    "\n",
    "def t_2(s1, V_t):\n",
    "    return (s-s1) / V_t\n",
    "\n",
    "def T(r,z):\n",
    "    return t_1(r) + t_2(s_1(t_1(r),r,z),Term_velocity(r,z))"
   ]
  },
  {
   "cell_type": "code",
   "execution_count": 88,
   "metadata": {},
   "outputs": [],
   "source": [
    "size = np.array(range(1,11,1))\n",
    "Z_potential = np.array(range(1,11,1))"
   ]
  },
  {
   "cell_type": "code",
   "execution_count": 89,
   "metadata": {},
   "outputs": [
    {
     "name": "stdout",
     "output_type": "stream",
     "text": [
      "(100, 2)\n"
     ]
    }
   ],
   "source": [
    "# Create a 2D grid using nested list comprehension\n",
    "grid = np.array([[x, y] for x in size for y in Z_potential])\n",
    "\n",
    "print(grid.shape)"
   ]
  },
  {
   "cell_type": "code",
   "execution_count": 90,
   "metadata": {},
   "outputs": [],
   "source": [
    "Time_grid = np.array([])\n",
    "for i in grid:\n",
    "    Time_grid = np.append(Time_grid, np.array([ T(i[0], i[1])]))\n",
    "    \n",
    "#Time_grid = np.reshape(Time_grid, (100, 0))\n"
   ]
  },
  {
   "cell_type": "code",
   "execution_count": 93,
   "metadata": {},
   "outputs": [
    {
     "name": "stdout",
     "output_type": "stream",
     "text": [
      "(100,)\n"
     ]
    }
   ],
   "source": [
    "print(Time_grid.shape)"
   ]
  },
  {
   "cell_type": "code",
   "execution_count": 92,
   "metadata": {},
   "outputs": [
    {
     "ename": "ValueError",
     "evalue": "shape mismatch: value array of shape (6,) could not be broadcast to indexing result of shape (2,2)",
     "output_type": "error",
     "traceback": [
      "\u001b[1;31m---------------------------------------------------------------------------\u001b[0m",
      "\u001b[1;31mValueError\u001b[0m                                Traceback (most recent call last)",
      "\u001b[1;32mc:\\Users\\woshi\\OneDrive\\Documents\\GitHub\\MT4284-Nanomaterials\\Project.ipynb Cell 6\u001b[0m line \u001b[0;36m<cell line: 1>\u001b[1;34m()\u001b[0m\n\u001b[0;32m      <a href='vscode-notebook-cell:/c%3A/Users/woshi/OneDrive/Documents/GitHub/MT4284-Nanomaterials/Project.ipynb#X10sZmlsZQ%3D%3D?line=0'>1</a>\u001b[0m \u001b[39mfor\u001b[39;00m j \u001b[39min\u001b[39;00m grid:\n\u001b[1;32m----> <a href='vscode-notebook-cell:/c%3A/Users/woshi/OneDrive/Documents/GitHub/MT4284-Nanomaterials/Project.ipynb#X10sZmlsZQ%3D%3D?line=1'>2</a>\u001b[0m     grid[j] \u001b[39m=\u001b[39m np\u001b[39m.\u001b[39mappend(grid[j], Time_grid[j])\n\u001b[0;32m      <a href='vscode-notebook-cell:/c%3A/Users/woshi/OneDrive/Documents/GitHub/MT4284-Nanomaterials/Project.ipynb#X10sZmlsZQ%3D%3D?line=3'>4</a>\u001b[0m \u001b[39mprint\u001b[39m(grid[\u001b[39m0\u001b[39m:\u001b[39m10\u001b[39m])\n",
      "\u001b[1;31mValueError\u001b[0m: shape mismatch: value array of shape (6,) could not be broadcast to indexing result of shape (2,2)"
     ]
    }
   ],
   "source": [
    "for j in grid:\n",
    "    grid[j] = np.append(grid[j], Time_grid[j])\n",
    "\n",
    "print(grid[0:10])"
   ]
  },
  {
   "cell_type": "code",
   "execution_count": null,
   "metadata": {},
   "outputs": [
    {
     "data": {
      "text/plain": [
       "(100, 2)"
      ]
     },
     "execution_count": 80,
     "metadata": {},
     "output_type": "execute_result"
    }
   ],
   "source": [
    "grid.shape"
   ]
  },
  {
   "cell_type": "code",
   "execution_count": null,
   "metadata": {},
   "outputs": [
    {
     "data": {
      "text/plain": [
       "(100, 1)"
      ]
     },
     "execution_count": 81,
     "metadata": {},
     "output_type": "execute_result"
    }
   ],
   "source": [
    "Time_grid.shape"
   ]
  },
  {
   "cell_type": "code",
   "execution_count": null,
   "metadata": {},
   "outputs": [],
   "source": []
  }
 ],
 "metadata": {
  "kernelspec": {
   "display_name": "Python 3",
   "language": "python",
   "name": "python3"
  },
  "language_info": {
   "codemirror_mode": {
    "name": "ipython",
    "version": 3
   },
   "file_extension": ".py",
   "mimetype": "text/x-python",
   "name": "python",
   "nbconvert_exporter": "python",
   "pygments_lexer": "ipython3",
   "version": "3.10.11"
  }
 },
 "nbformat": 4,
 "nbformat_minor": 2
}
