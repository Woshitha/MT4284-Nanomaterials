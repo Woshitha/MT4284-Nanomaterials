{
 "cells": [
  {
   "cell_type": "code",
   "execution_count": 14,
   "metadata": {},
   "outputs": [],
   "source": [
    "import math\n",
    "from sympy import symbols, integrate\n",
    "import numpy as np\n",
    "#from matplotlib import pyplot as plt\n",
    "\n",
    "E = 10\n",
    "s = 0.2\n",
    "n = 890\n",
    "pi = math.pi\n",
    "\n",
    "def Term_velocity(r, z):\n",
    "    return (E*z)/(6*pi*n*r)\n",
    "\n",
    "def t_1(r):\n",
    "    return (22*r**2) / n\n",
    "\n",
    "def s_1(t1,r,z):\n",
    "    t = symbols(\"t\")\n",
    "    velocity = (3*E*z*t) / (4*pi*r**3 + 18*pi*n*r*t)\n",
    "    return integrate(velocity, (t, 0, t1))\n",
    "\n",
    "def t_2(s1, V_t):\n",
    "    return (s-s1) / V_t\n",
    "\n",
    "def T(r,z):\n",
    "    return t_1(r) + t_2(s_1(t_1(r),r,z),Term_velocity(r,z))"
   ]
  },
  {
   "cell_type": "code",
   "execution_count": 22,
   "metadata": {},
   "outputs": [],
   "source": [
    "size = np.array(range(1,1001,1))\n",
    "Z_potential = np.array(range(1,1001,1))"
   ]
  },
  {
   "cell_type": "code",
   "execution_count": 39,
   "metadata": {},
   "outputs": [
    {
     "name": "stdout",
     "output_type": "stream",
     "text": [
      "(1000000, 2)\n"
     ]
    }
   ],
   "source": [
    "# Create a 2D grid using nested list comprehension\n",
    "grid = np.array([[x, y] for x in size for y in Z_potential])\n",
    "\n",
    "print(grid.shape)"
   ]
  },
  {
   "cell_type": "code",
   "execution_count": 45,
   "metadata": {},
   "outputs": [],
   "source": [
    "for i in grid:\n",
    "    np.append(grid[i], [Term_velocity(i[0], i[1]), T(i[0], i[1])])\n",
    "    \n"
   ]
  },
  {
   "cell_type": "code",
   "execution_count": null,
   "metadata": {},
   "outputs": [],
   "source": []
  }
 ],
 "metadata": {
  "kernelspec": {
   "display_name": "Python 3",
   "language": "python",
   "name": "python3"
  },
  "language_info": {
   "codemirror_mode": {
    "name": "ipython",
    "version": 3
   },
   "file_extension": ".py",
   "mimetype": "text/x-python",
   "name": "python",
   "nbconvert_exporter": "python",
   "pygments_lexer": "ipython3",
   "version": "3.10.11"
  }
 },
 "nbformat": 4,
 "nbformat_minor": 2
}
